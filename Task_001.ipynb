{
 "cells": [
  {
   "cell_type": "code",
   "execution_count": 14,
   "id": "53070c32",
   "metadata": {},
   "outputs": [],
   "source": [
    "import numpy as np\n",
    "import pandas as pd\n",
    "from scipy import stats"
   ]
  },
  {
   "cell_type": "markdown",
   "id": "20aa782c",
   "metadata": {},
   "source": [
    "Сформулируем нулевую гипотезу:\n",
    "H0:$\\mu1=\\mu2=\\mu3$ т.е. средний рост спортсмена не зависит от вида спорта, которым он занимается.\n",
    "Альтернативная гипотеза:\n",
    "H1:$\\mu1\\ne\\mu2\\ne\\mu3$ т.е. средний рост спортсмена зависит от выбранного им спорта."
   ]
  },
  {
   "cell_type": "code",
   "execution_count": 15,
   "id": "2afb0557",
   "metadata": {},
   "outputs": [],
   "source": [
    "football=np.array([173, 175, 180, 178, 177, 185, 183, 182])\n",
    "hockey=np.array([177, 179, 180, 188, 177, 172, 171, 184, 180])\n",
    "weightlifter=np.array([172, 173, 169, 177, 166, 180, 178, 177, 172, 166, 170])"
   ]
  },
  {
   "cell_type": "code",
   "execution_count": 16,
   "id": "84417ebc",
   "metadata": {},
   "outputs": [
    {
     "data": {
      "text/plain": [
       "F_onewayResult(statistic=5.500053450812596, pvalue=0.010482206918698693)"
      ]
     },
     "execution_count": 16,
     "metadata": {},
     "output_type": "execute_result"
    }
   ],
   "source": [
    "stats.f_oneway(football, hockey, weightlifter)"
   ]
  },
  {
   "cell_type": "markdown",
   "id": "b529738b",
   "metadata": {},
   "source": [
    "Получили значение pvalue=0.01 следовательно на уровне $\\alpha = 0.05$ статистической значимости отвергаем нулевую гипотезу. Т.е. средний рост футболистов, хоккеистов и штангистов зависит от выбранного вида спорта.\n",
    "При этом на уровне значимости $\\alpha = 0.1$ нулевую гипотезу отвергнуть не можем."
   ]
  },
  {
   "cell_type": "code",
   "execution_count": null,
   "id": "15c0899c",
   "metadata": {},
   "outputs": [],
   "source": []
  }
 ],
 "metadata": {
  "kernelspec": {
   "display_name": "Python 3 (ipykernel)",
   "language": "python",
   "name": "python3"
  },
  "language_info": {
   "codemirror_mode": {
    "name": "ipython",
    "version": 3
   },
   "file_extension": ".py",
   "mimetype": "text/x-python",
   "name": "python",
   "nbconvert_exporter": "python",
   "pygments_lexer": "ipython3",
   "version": "3.10.11"
  }
 },
 "nbformat": 4,
 "nbformat_minor": 5
}
